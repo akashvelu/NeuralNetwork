{
 "cells": [
  {
   "cell_type": "code",
   "execution_count": 1,
   "metadata": {},
   "outputs": [],
   "source": [
    "import numpy as np"
   ]
  },
  {
   "cell_type": "code",
   "execution_count": 2,
   "metadata": {},
   "outputs": [],
   "source": [
    "def sigmoid(x):\n",
    "    denom = 1 + np.exp(-1 * x)\n",
    "    return (1 / denom)\n",
    "\n",
    "def relu(x):\n",
    "    return None"
   ]
  },
  {
   "cell_type": "code",
   "execution_count": 3,
   "metadata": {},
   "outputs": [],
   "source": [
    "class NeuralNetwork:\n",
    "\n",
    "    # numLayers is number of layers in Neural Network, including the input layer and output layer\n",
    "    # there are (numLayers - 2) hidden layers\n",
    "    # we need (numLayers - 1) weights and biases\n",
    "    def __init__(self, numLayers, layerDims):\n",
    "        self.numLayers = numLayers\n",
    "        self.layerDims = layerDims\n",
    "\n",
    "        self.weights = []\n",
    "        self.biases = []\n",
    "        for i in range(1, numLayers):\n",
    "            # initialize weights to uniform random values between -1, 1 (np.random.rand returns values in [0, 1])\n",
    "            weightMatrix = 2 * np.random.rand(self.layerDims[i], self.layerDims[i - 1]) - 1\n",
    "            biasVector = 2 * np.random.rand(self.layerDims[i]) - 1\n",
    "            self.weights.append(weightMatrix)\n",
    "            self.biases.append(biasVector)\n",
    "\n",
    "    # forward pass algorithm\n",
    "    def forwardPass(self, input):\n",
    "        layerValues = []\n",
    "        layerValues.append(input)\n",
    "        for i in range(1, self.numLayers):\n",
    "            z = np.dot(self.weights[i - 1], layerValues[i - 1]) + self.biases[i - 1]\n",
    "            newLayer = sigmoid(z)\n",
    "            layerValues.append(newLayer)\n",
    "        return layerValues\n",
    "    \n",
    "    def backPropagate(self, layers, expected):\n",
    "        deltas = []\n",
    "        biasGradients = []\n",
    "        weightJacobians = []\n",
    "        \n",
    "        currLayer = layers[self.numLayers - 1]\n",
    "        deltas.insert(0, (currLayer - expected) * currLayer * (1 - currLayer))\n",
    "        \n",
    "        for l in range(self.numLayers - 1, 0, -1):\n",
    "            biasGradients.insert(0, deltas[0])\n",
    "            jacobian = np.outer(deltas[0], layers[l - 1])\n",
    "            weightJacobians.insert(0, jacobian)\n",
    "            \n",
    "            nextDelta = np.dot(self.weights[l - 1].T, deltas[0]) * layers[l - 1] * (1 - layers[l-1])\n",
    "            deltas.insert(0, nextDelta)\n",
    "        \n",
    "        return weightJacobians, biasGradients\n",
    "    \n",
    "\n",
    "\n",
    "    def gradientDescent(self, learningRate, weightJacobians, biasGradients):\n",
    "\n",
    "        for i in range(len(weightJacobians)):\n",
    "            self.weights[i] -= (learningRate * weightJacobians[i])\n",
    "            self.biases[i] -= (learningRate * biasGradients[i])\n",
    "\n",
    "\n",
    "    def train(self, trainingData, epochs, learningRate):\n",
    "        epoch = 0\n",
    "        trainingSetSize = len(trainingData)\n",
    "\n",
    "        while (epoch < epochs):\n",
    "            for i in range(len(trainingData)):\n",
    "                currInput = trainingData[i][0]\n",
    "                currExpected = trainingData[i][1]\n",
    "                currLayers = self.forwardPass(currInput)\n",
    "                weightJacobians, biasGradients = self.backPropagate(currLayers, currExpected)\n",
    "                # print(biasGradients)\n",
    "                self.gradientDescent(learningRate, weightJacobians, biasGradients)\n",
    "            epoch += 1\n",
    "        return\n",
    "\n",
    "\n",
    "    def predict(self, input):\n",
    "        output = self.forwardPass(input)[-1]\n",
    "        return np.argmax(output), output\n",
    "\n",
    "    def mse_error(self, output, expectedOutput):\n",
    "        diff = output - expectedOutput\n",
    "        return(np.dot(diff, diff))\n"
   ]
  },
  {
   "cell_type": "code",
   "execution_count": 20,
   "metadata": {},
   "outputs": [],
   "source": [
    "nn = NeuralNetwork(3, [2, 2, 1])"
   ]
  },
  {
   "cell_type": "code",
   "execution_count": null,
   "metadata": {},
   "outputs": [],
   "source": []
  },
  {
   "cell_type": "code",
   "execution_count": 21,
   "metadata": {},
   "outputs": [],
   "source": [
    "# XOR test\n",
    "p1 = (np.array([0, 0]), np.array([0]))\n",
    "p2 = (np.array([0, 1]), np.array([1]))\n",
    "p3 = (np.array([1, 0]), np.array([1]))\n",
    "p4 = (np.array([1, 1]), np.array([0]))\n",
    "trainingData = [p1, p2, p3, p4]\n",
    "\n"
   ]
  },
  {
   "cell_type": "code",
   "execution_count": 22,
   "metadata": {},
   "outputs": [],
   "source": [
    "nn.train(trainingData, 40000, 0.2)"
   ]
  },
  {
   "cell_type": "code",
   "execution_count": 24,
   "metadata": {},
   "outputs": [
    {
     "name": "stdout",
     "output_type": "stream",
     "text": [
      "(0, array([0.01224313]))\n",
      "(0, array([0.98726415]))\n",
      "(0, array([0.98726138]))\n",
      "(0, array([0.0156268]))\n"
     ]
    }
   ],
   "source": [
    "print(nn.predict(np.array([0,0])))\n",
    "print(nn.predict(np.array([0,1])))\n",
    "print(nn.predict(np.array([1,0])))\n",
    "print(nn.predict(np.array([1,1])))"
   ]
  }
 ],
 "metadata": {
  "kernelspec": {
   "display_name": "Python 3",
   "language": "python",
   "name": "python3"
  },
  "language_info": {
   "codemirror_mode": {
    "name": "ipython",
    "version": 3
   },
   "file_extension": ".py",
   "mimetype": "text/x-python",
   "name": "python",
   "nbconvert_exporter": "python",
   "pygments_lexer": "ipython3",
   "version": "3.7.4"
  }
 },
 "nbformat": 4,
 "nbformat_minor": 2
}
