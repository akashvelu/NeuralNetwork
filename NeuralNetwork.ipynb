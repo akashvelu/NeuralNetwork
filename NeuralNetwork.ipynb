{
 "cells": [
  {
   "cell_type": "code",
   "execution_count": 1,
   "metadata": {},
   "outputs": [],
   "source": [
    "import numpy as np"
   ]
  },
  {
   "cell_type": "code",
   "execution_count": 3,
   "metadata": {},
   "outputs": [],
   "source": [
    "def sigmoid(x):\n",
    "    denom = 1 + np.exp(-1 * x)\n",
    "    return (1 / denom)\n",
    "\n",
    "def relu(x):\n",
    "    return None"
   ]
  },
  {
   "cell_type": "code",
   "execution_count": 287,
   "metadata": {},
   "outputs": [],
   "source": [
    "class NeuralNetwork:\n",
    "\n",
    "    # numLayers is number of layers in Neural Network, including the input layer and output layer\n",
    "    # there are (numLayers - 2) hidden layers\n",
    "    # we need (numLayers - 1) weights and biases\n",
    "    def __init__(self, numLayers, layerDims):\n",
    "        self.numLayers = numLayers\n",
    "        self.layerDims = layerDims\n",
    "\n",
    "        self.weights = []\n",
    "        self.biases = []\n",
    "        for i in range(1, numLayers):\n",
    "            # initialize weights to uniform random values between -1, 1 (np.random.rand returns values in [0, 1])\n",
    "            weightMatrix = 2 * np.random.rand(self.layerDims[i], self.layerDims[i - 1]) - 1\n",
    "            biasVector = 2 * np.random.rand(self.layerDims[i]) - 1\n",
    "            self.weights.append(weightMatrix)\n",
    "            self.biases.append(biasVector)\n",
    "\n",
    "    # forward pass algorithm\n",
    "    def forwardPass(self, input):\n",
    "        layerValues = []\n",
    "        layerValues.append(input)\n",
    "        for i in range(1, self.numLayers):\n",
    "            z = np.dot(self.weights[i - 1], layerValues[i - 1]) + self.biases[i - 1]\n",
    "            newLayer = sigmoid(z)\n",
    "            layerValues.append(newLayer)\n",
    "        return layerValues\n",
    "    \n",
    "    def backPropagate(self, layers, expected):\n",
    "        deltas = []\n",
    "        biasGradients = []\n",
    "        weightJacobians = []\n",
    "        \n",
    "        currLayer = layers[self.numLayers - 1]\n",
    "        deltas.insert(0, (currLayer - expected) * currLayer * (1 - currLayer))\n",
    "        \n",
    "        for l in range(self.numLayers - 1, 0, -1):\n",
    "            biasGradients.insert(0, deltas[0])\n",
    "            jacobian = np.outer(deltas[0], layers[l - 1])\n",
    "            weightJacobians.insert(0, jacobian)\n",
    "            \n",
    "            nextDelta = np.dot(self.weights[l - 1].T, deltas[0]) * layers[l - 1] * (1 - layers[l-1])\n",
    "            deltas.insert(0, nextDelta)\n",
    "        \n",
    "        return weightJacobians, biasGradients\n",
    "    \n",
    "\n",
    "\n",
    "    def gradientDescent(self, learningRate, weightJacobians, biasGradients):\n",
    "\n",
    "        for i in range(len(weightJacobians)):\n",
    "            self.weights[i] -= (learningRate * weightJacobians[i])\n",
    "            self.biases[i] -= (learningRate * biasGradients[i])\n",
    "\n",
    "\n",
    "    def train(self, trainingData, epochs, learningRate):\n",
    "        epoch = 0\n",
    "        trainingSetSize = len(trainingData)\n",
    "\n",
    "        while (epoch < epochs):\n",
    "            for i in range(len(trainingData)):\n",
    "                currInput = trainingData[i][0]\n",
    "                currExpected = trainingData[i][1]\n",
    "                currLayers = self.forwardPass(currInput)\n",
    "                weightJacobians, biasGradients = self.backPropagate(currLayers, currExpected)\n",
    "                # print(biasGradients)\n",
    "                self.gradientDescent(learningRate, weightJacobians, biasGradients)\n",
    "            epoch += 1\n",
    "        return\n",
    "\n",
    "\n",
    "    def predict(self, input):\n",
    "        output = self.forwardPass(input)[-1]\n",
    "        return np.argmax(output), output\n",
    "\n",
    "    def mse_error(self, output, expectedOutput):\n",
    "        diff = output - expectedOutput\n",
    "        return(np.dot(diff, diff))\n"
   ]
  },
  {
   "cell_type": "code",
   "execution_count": 288,
   "metadata": {},
   "outputs": [],
   "source": [
    "nn = NeuralNetwork(3, [2, 2, 1])"
   ]
  },
  {
   "cell_type": "code",
   "execution_count": 289,
   "metadata": {},
   "outputs": [
    {
     "data": {
      "text/plain": [
       "([array([[ 0.24294923, -0.27688315],\n",
       "         [-0.15745964, -0.44786474]]), array([[ 0.94919197, -0.71820465]])],\n",
       " [array([0.79671019, 0.77468696]), array([-0.56564414])])"
      ]
     },
     "execution_count": 289,
     "metadata": {},
     "output_type": "execute_result"
    }
   ],
   "source": [
    "nn.weights, nn.biases"
   ]
  },
  {
   "cell_type": "code",
   "execution_count": 290,
   "metadata": {},
   "outputs": [],
   "source": [
    "p1 = (np.array([0, 0]), np.array([0]))\n",
    "p2 = (np.array([0, 1]), np.array([1]))\n",
    "p3 = (np.array([1, 0]), np.array([1]))\n",
    "p4 = (np.array([1, 1]), np.array([0]))\n",
    "trainingData = [p1, p2, p3, p4]\n",
    "\n"
   ]
  },
  {
   "cell_type": "code",
   "execution_count": 291,
   "metadata": {},
   "outputs": [],
   "source": [
    "nn.train(trainingData, 10000, 0.2)"
   ]
  },
  {
   "cell_type": "code",
   "execution_count": 295,
   "metadata": {},
   "outputs": [
    {
     "data": {
      "text/plain": [
       "(0, array([0.04023206]))"
      ]
     },
     "execution_count": 295,
     "metadata": {},
     "output_type": "execute_result"
    }
   ],
   "source": [
    "nn.predict(np.array([1,1]))"
   ]
  },
  {
   "cell_type": "code",
   "execution_count": null,
   "metadata": {},
   "outputs": [],
   "source": []
  },
  {
   "cell_type": "code",
   "execution_count": 185,
   "metadata": {},
   "outputs": [
    {
     "data": {
      "text/plain": [
       "[array([0]), array([0.41886156]), array([0.53206977])]"
      ]
     },
     "execution_count": 185,
     "metadata": {},
     "output_type": "execute_result"
    }
   ],
   "source": [
    "nn.predict(np.array([0]))"
   ]
  },
  {
   "cell_type": "code",
   "execution_count": 172,
   "metadata": {},
   "outputs": [
    {
     "name": "stdout",
     "output_type": "stream",
     "text": [
      "L gradient:  [-3.9070304]\n",
      "L value: 2\n",
      "Lth layer:  [-0.9070304]\n",
      "Lth bias gradient:  [6.75812551]\n",
      "Lth weight jacobian:  [[2.01292044]]\n",
      "L - 1 layer gradient:  [-4.36576436]\n",
      "L value: 1\n",
      "Lth layer:  [0.29785189]\n",
      "Lth bias gradient:  [-0.91303911]\n",
      "Lth weight jacobian:  [[-0.]]\n",
      "L - 1 layer gradient:  [0.38019906]\n"
     ]
    }
   ],
   "source": [
    "exp = p1[1]\n",
    "j, b = nn.backPropagate(layers, exp)\n"
   ]
  },
  {
   "cell_type": "code",
   "execution_count": 130,
   "metadata": {},
   "outputs": [
    {
     "data": {
      "text/plain": [
       "[array([0]), array([0.29740094]), array([0.47304873])]"
      ]
     },
     "execution_count": 130,
     "metadata": {},
     "output_type": "execute_result"
    }
   ],
   "source": [
    "layerVals = nn.forwardPass(p1[0])\n",
    "layerVals"
   ]
  },
  {
   "cell_type": "code",
   "execution_count": 131,
   "metadata": {},
   "outputs": [
    {
     "name": "stdout",
     "output_type": "stream",
     "text": [
      "L value: 2\n",
      "Lth layer:  [0.47304873]\n",
      "Lth bias gradient:  [-0.11791857]\n",
      "Lth weight jacobian:  [[-0.03506909]]\n",
      "L - 1 layer gradient:  [-0.0379522]\n",
      "L value: 1\n",
      "Lth layer:  [0.29740094]\n",
      "Lth bias gradient:  [-0.00793025]\n",
      "Lth weight jacobian:  [[-0.]]\n",
      "L - 1 layer gradient:  [-0.00720378]\n"
     ]
    },
    {
     "data": {
      "text/plain": [
       "([array([[-0.]]), array([[-0.03506909]])],\n",
       " [array([-0.00793025]), array([-0.11791857])])"
      ]
     },
     "execution_count": 131,
     "metadata": {},
     "output_type": "execute_result"
    }
   ],
   "source": [
    "exp = p1[1]\n",
    "j, b = nn.backPropagate(layerVals, exp)\n",
    "j, b"
   ]
  },
  {
   "cell_type": "code",
   "execution_count": 133,
   "metadata": {},
   "outputs": [
    {
     "data": {
      "text/plain": [
       "[array([0]), array([0.29740094]), array([0.47304873])]"
      ]
     },
     "execution_count": 133,
     "metadata": {},
     "output_type": "execute_result"
    }
   ],
   "source": [
    "nn.predict(np.array([0]))"
   ]
  },
  {
   "cell_type": "code",
   "execution_count": 79,
   "metadata": {},
   "outputs": [
    {
     "name": "stdout",
     "output_type": "stream",
     "text": [
      "L value: 2\n",
      "Lth layer:  [1.75922244]\n",
      "Lth bias gradient:  [-2.34968988]\n",
      "Lth weight jacobian:  [[-3.08849888]]\n",
      "L - 1 layer gradient:  [-1.47509353]\n",
      "L value: 1\n",
      "Lth layer:  [1.3144283]\n",
      "Lth bias gradient:  [0.60964651]\n",
      "Lth weight jacobian:  [[0.]]\n",
      "L - 1 layer gradient:  [0.38681782]\n"
     ]
    },
    {
     "data": {
      "text/plain": [
       "([array([[0.]]), array([[-3.08849888]])],\n",
       " [array([0.60964651]), array([-2.34968988])])"
      ]
     },
     "execution_count": 79,
     "metadata": {},
     "output_type": "execute_result"
    }
   ],
   "source": [
    "layers = nn.forwardPass(p1[0])\n",
    "exp = p1[1]\n",
    "weightJacob, biasGrad = nn.backPropagate(layers, exp)\n",
    "weightJacob, biasGrad"
   ]
  },
  {
   "cell_type": "code",
   "execution_count": 80,
   "metadata": {},
   "outputs": [],
   "source": [
    "nn.gradientDescent(0.1, weightJacob, biasGrad)"
   ]
  },
  {
   "cell_type": "code",
   "execution_count": 20,
   "metadata": {},
   "outputs": [],
   "source": []
  },
  {
   "cell_type": "code",
   "execution_count": null,
   "metadata": {},
   "outputs": [],
   "source": [
    "      currLayer = layerValues[self.numLayers - 1]\n",
    "        biasGradients = []\n",
    "        layerGradients = []\n",
    "        weightJacobians = []\n",
    "        layerGradients.insert(0, currLayer - expectedOutput)\n",
    "        print(\"L gradient: \", layerGradients[0])\n",
    "        \n",
    "\n",
    "        numWeights = self.numLayers - 1\n",
    "        \n",
    "        for l in range(numWeights, 0, -1):\n",
    "            print(\"L value: \" + str(l))\n",
    "            # layer l\n",
    "            currLayer = layerValues[l]\n",
    "            print(\"Lth layer: \", currLayer)\n",
    "            # gradient of b_l wrt cost\n",
    "            biasGradient = np.reshape(layerGradients[0] * currLayer * (1 - currLayer), self.biases[l - 1].shape)\n",
    "            print(\"Lth bias gradient: \", biasGradient)\n",
    "            # jacobian of W_l wrt cost\n",
    "            weightJacobian = np.reshape(np.dot(biasGradient.T, layerValues[l - 1]), self.weights[l - 1].shape)\n",
    "            print(\"Lth weight jacobian: \", weightJacobian)\n",
    "            # lth weight matrix\n",
    "            W_l = self.weights[l - 1]\n",
    "            # gradient of layer l-1 wrt cost\n",
    "            layerGradient = np.dot(W_1.T, layerGradients[0]) * currLayer * (1 - currLayer)\n",
    "            print(\"L - 1 layer gradient: \", layerGradient)\n",
    "            \n",
    "            biasGradients.insert(0, biasGradient)\n",
    "            weightJacobians.insert(0, weightJacobian)\n",
    "            layerGradients.insert(0, layerGradient)\n",
    "            \n",
    "        return weightJacobians, biasGradients"
   ]
  },
  {
   "cell_type": "code",
   "execution_count": null,
   "metadata": {},
   "outputs": [],
   "source": []
  }
 ],
 "metadata": {
  "kernelspec": {
   "display_name": "Python 3",
   "language": "python",
   "name": "python3"
  },
  "language_info": {
   "codemirror_mode": {
    "name": "ipython",
    "version": 3
   },
   "file_extension": ".py",
   "mimetype": "text/x-python",
   "name": "python",
   "nbconvert_exporter": "python",
   "pygments_lexer": "ipython3",
   "version": "3.7.4"
  }
 },
 "nbformat": 4,
 "nbformat_minor": 2
}
